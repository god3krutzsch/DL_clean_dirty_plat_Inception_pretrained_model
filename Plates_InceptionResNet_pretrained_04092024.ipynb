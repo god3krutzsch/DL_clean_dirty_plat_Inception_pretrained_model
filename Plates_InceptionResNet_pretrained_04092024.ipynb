{
 "cells": [
  {
   "cell_type": "code",
   "id": "initial_id",
   "metadata": {
    "collapsed": true,
    "jupyter": {
     "outputs_hidden": true
    },
    "ExecuteTime": {
     "end_time": "2024-09-13T10:30:24.115035Z",
     "start_time": "2024-09-13T10:30:24.062659Z"
    }
   },
   "source": [
    "import os\n",
    "import zipfile\n",
    "\n",
    "from keras.src.layers import GlobalAveragePooling2D\n",
    "from tensorflow.keras.preprocessing.image import ImageDataGenerator\n",
    "from keras import applications, optimizers\n",
    "from tensorflow.keras.applications import InceptionResNetV2\n",
    "from tensorflow.keras.layers import Flatten, Dense, Dropout\n",
    "from keras.models import Sequential, Model\n",
    "from tensorflow.keras.optimizers import RMSprop \n",
    "import pandas as pd\n",
    "import matplotlib.pyplot as plt\n",
    "import splitfolders\n",
    "from tensorflow.keras.callbacks import EarlyStopping, ReduceLROnPlateau\n",
    "import keras\n",
    "\n"
   ],
   "outputs": [],
   "execution_count": 182
  },
  {
   "cell_type": "markdown",
   "id": "f7e1d84d58b188b9",
   "metadata": {},
   "source": [
    "1.0 Data extraction"
   ]
  },
  {
   "cell_type": "code",
   "id": "8c7abca488848da3",
   "metadata": {
    "ExecuteTime": {
     "end_time": "2024-09-06T10:17:44.658851Z",
     "start_time": "2024-09-06T10:17:44.655503Z"
    }
   },
   "source": [
    "zip_file_path = \"/Users/godfreykrutzsch/Desktop/platesv2/plates.zip\"\n",
    "extract_to = \"/Users/godfreykrutzsch/Desktop/platesv2/\""
   ],
   "outputs": [],
   "execution_count": 2
  },
  {
   "cell_type": "code",
   "id": "17e9f95093dc964f",
   "metadata": {
    "ExecuteTime": {
     "end_time": "2024-09-06T10:17:45.853132Z",
     "start_time": "2024-09-06T10:17:45.161600Z"
    }
   },
   "source": [
    "\n",
    "with zipfile.ZipFile(zip_file_path, 'r') as zip_ref:\n",
    "    zip_ref.extractall(extract_to)\n",
    "    zip_ref.close()"
   ],
   "outputs": [],
   "execution_count": 3
  },
  {
   "cell_type": "markdown",
   "id": "267e4344cc422539",
   "metadata": {},
   "source": [
    "2.0 Exploration"
   ]
  },
  {
   "cell_type": "code",
   "id": "997f1405ef1b10fa",
   "metadata": {
    "ExecuteTime": {
     "end_time": "2024-09-06T10:17:46.241461Z",
     "start_time": "2024-09-06T10:17:46.238217Z"
    }
   },
   "source": [
    "data_directory = \"/Users/godfreykrutzsch/Desktop/platesv2/plates\"\n",
    "print(os.listdir(data_directory))"
   ],
   "outputs": [
    {
     "name": "stdout",
     "output_type": "stream",
     "text": [
      "['.DS_Store', 'test', 'train']\n"
     ]
    }
   ],
   "execution_count": 4
  },
  {
   "cell_type": "markdown",
   "id": "9de8b93a042e2e36",
   "metadata": {},
   "source": "3.0 Set directories "
  },
  {
   "cell_type": "code",
   "id": "75f18ccc95f98a17",
   "metadata": {
    "ExecuteTime": {
     "end_time": "2024-09-13T10:54:40.631692Z",
     "start_time": "2024-09-13T10:54:40.584525Z"
    }
   },
   "source": [
    "# this directory mapping is required for splitting training and val and providing a reference to test data\n",
    "training_directory = data_directory + \"/train\"\n",
    "test_directory = data_directory + \"/test\""
   ],
   "outputs": [],
   "execution_count": 218
  },
  {
   "metadata": {},
   "cell_type": "markdown",
   "source": "4.0 Split training into Validation and Training (60:40)",
   "id": "79ced332f7b171c9"
  },
  {
   "metadata": {
    "ExecuteTime": {
     "end_time": "2024-09-13T10:54:41.751151Z",
     "start_time": "2024-09-13T10:54:41.688603Z"
    }
   },
   "cell_type": "code",
   "source": "splitfolders.ratio(training_directory, output=\"/Users/godfreykrutzsch/Desktop/platesv2/plates_split\", ratio=(.6, .4))",
   "id": "7e83358ccd7af414",
   "outputs": [
    {
     "name": "stderr",
     "output_type": "stream",
     "text": [
      "Copying files: 40 files [00:00, 927.30 files/s]\n"
     ]
    }
   ],
   "execution_count": 219
  },
  {
   "metadata": {
    "ExecuteTime": {
     "end_time": "2024-09-13T10:54:42.248150Z",
     "start_time": "2024-09-13T10:54:42.242112Z"
    }
   },
   "cell_type": "code",
   "source": [
    "# these are required for image processing and loading\n",
    "training_data_split = \"/Users/godfreykrutzsch/Desktop/platesv2/plates_split/train/\"\n",
    "val_data_split = \"/Users/godfreykrutzsch/Desktop/platesv2/plates_split/val/\""
   ],
   "id": "d9d0422e2ae918db",
   "outputs": [],
   "execution_count": 220
  },
  {
   "metadata": {
    "ExecuteTime": {
     "end_time": "2024-09-13T10:54:42.822426Z",
     "start_time": "2024-09-13T10:54:42.807075Z"
    }
   },
   "cell_type": "code",
   "source": [
    "print(os.listdir(training_data_split))\n",
    "print(os.listdir(val_data_split))"
   ],
   "id": "b7d143c4f424f0ae",
   "outputs": [
    {
     "name": "stdout",
     "output_type": "stream",
     "text": [
      "['cleaned', 'dirty']\n",
      "['cleaned', 'dirty']\n"
     ]
    }
   ],
   "execution_count": 221
  },
  {
   "metadata": {
    "ExecuteTime": {
     "end_time": "2024-09-13T10:54:43.503638Z",
     "start_time": "2024-09-13T10:54:43.480504Z"
    }
   },
   "cell_type": "code",
   "source": [
    "# check sub-directories \n",
    "print(f'visible in parent directory: {os.listdir(\"/Users/godfreykrutzsch/Desktop/platesv2/\")}')\n",
    "print(f'Classes for training data: {os.listdir(training_data_split)}')\n",
    "print(f'Classes for validation data: {os.listdir(val_data_split)}')"
   ],
   "id": "5983b785244589e6",
   "outputs": [
    {
     "name": "stdout",
     "output_type": "stream",
     "text": [
      "visible in parent directory: ['standard-setup-learn-rate.csv', 'useResNet50unfreeze10layers.csv', 'patience-10.csv', 'freezemodel.csv', 'freezemodel-again-again.csv', 'new_baseline-steps50.csv', 'standard-setup-learn-rate0001.csv', 'useResNet50andGlobal.csv', '.DS_Store', 'patience-15.csv', 'useResNet50andGlobal_step_per_epoch.csv', 'plates_split', 'new_baseline-steps150.csv', 'plusvalidation_early_stop.csv', 'freezemodel-again.csv', 'patience-10-0.csv', 'reshnet_blocks.csv', 'useResNet50pre-trained-earlystop.csv', '__MACOSX', 'new_baseline.csv', 'useResNet50pre-adjust-learn-rate.csv', 'restart.csv', 'plates.zip', 'useResNet50pre-trained-NO-arlystop.csv', 'plates', 'plusvalidation.csv', 'new_baseline-steps100.csv', 'useResNet50pre-trained.csv', 'freezemodel-again-again-gradual.csv', 'sample_submission.csv']\n",
      "Classes for training data: ['cleaned', 'dirty']\n",
      "Classes for validation data: ['cleaned', 'dirty']\n"
     ]
    }
   ],
   "execution_count": 222
  },
  {
   "cell_type": "markdown",
   "id": "8ad6db4b6019dafc",
   "metadata": {},
   "source": "5.0 set global variables for image and batch sizes"
  },
  {
   "cell_type": "code",
   "id": "d8ab78180fa20317",
   "metadata": {
    "ExecuteTime": {
     "end_time": "2024-09-13T10:54:44.711627Z",
     "start_time": "2024-09-13T10:54:44.697104Z"
    }
   },
   "source": [
    "# width & height images\n",
    "image_size = 224\n",
    "# the number of images in each batch during training (hyper-parameter)\n",
    "batch_size = 32"
   ],
   "outputs": [],
   "execution_count": 223
  },
  {
   "cell_type": "markdown",
   "id": "ceed42565ac93464",
   "metadata": {},
   "source": "5.0 Image preprocessing augmentation and loading"
  },
  {
   "cell_type": "code",
   "id": "c9ec623ab602d751",
   "metadata": {
    "ExecuteTime": {
     "end_time": "2024-09-13T10:54:46.638550Z",
     "start_time": "2024-09-13T10:54:46.528740Z"
    }
   },
   "source": [
    "# this function generate batches of tensor image data with real time augmentation, it creates variations of images on the fly.\n",
    "\n",
    "train_datagen = ImageDataGenerator(\n",
    "        rotation_range=40,      # randomly rotate image up to 40 degrees \n",
    "        width_shift_range=0.2,  # randomly shift image horizontally by 20% of the width\n",
    "        height_shift_range=0.2, # randomly shift image vertically by 20% of the height\n",
    "        shear_range=0.2,        # randomly apply shear transformation\n",
    "        zoom_range=0.2,         # randomly zoom into image\n",
    "        horizontal_flip=True,   # randomly flip image horizontally \n",
    "        vertical_flip=True      # randomly flip image vertically\n",
    ")\n",
    "\n",
    "train_generator = train_datagen.flow_from_directory(\n",
    "        #training_directory,\n",
    "        training_data_split,\n",
    "        target_size=(image_size,image_size),\n",
    "        batch_size=batch_size,\n",
    "        class_mode='binary'\n",
    ")\n",
    "\n",
    "# create data generator for validation\n",
    "\n",
    "val_datagen = ImageDataGenerator(\n",
    "        rotation_range=40,      # randomly rotate image up to 40 degrees \n",
    "        width_shift_range=0.2,  # randomly shift image horizontally by 20% of the width\n",
    "        height_shift_range=0.2, # randomly shift image vertically by 20% of the height\n",
    "        shear_range=0.2,        # randomly apply shear transformation\n",
    "        zoom_range=0.2,         # randomly zoom into image\n",
    "        horizontal_flip=True,   # randomly flip image horizontally \n",
    "        vertical_flip=True    \n",
    ")\n",
    "\n",
    "validation_generator = val_datagen.flow_from_directory(\n",
    "        val_data_split,\n",
    "        target_size=(image_size,image_size),\n",
    "        batch_size=batch_size,\n",
    "        class_mode='binary'\n",
    ")\n",
    "\n",
    "# we have enough test data so we will not make more\n",
    "test_datagen = ImageDataGenerator()\n",
    "\n",
    "test_generator = test_datagen.flow_from_directory(\n",
    "        data_directory,\n",
    "        classes=['test'],\n",
    "        target_size=(image_size, image_size),\n",
    "        batch_size=1,\n",
    ")"
   ],
   "outputs": [
    {
     "name": "stdout",
     "output_type": "stream",
     "text": [
      "Found 24 images belonging to 2 classes.\n",
      "Found 16 images belonging to 2 classes.\n",
      "Found 744 images belonging to 1 classes.\n"
     ]
    }
   ],
   "execution_count": 224
  },
  {
   "cell_type": "markdown",
   "id": "726cdbf429529e47",
   "metadata": {},
   "source": [
    "6.0 Loading pre-trained model: infrastructure part 1"
   ]
  },
  {
   "cell_type": "code",
   "id": "dc66aa0e78f72d76",
   "metadata": {
    "ExecuteTime": {
     "end_time": "2024-09-13T10:54:48.684176Z",
     "start_time": "2024-09-13T10:54:48.678971Z"
    }
   },
   "source": [
    "# this model is form big data with complex data - i have just 40 images :=)\n",
    "# base_model = applications.InceptionResNetV2(weights='imagenet', include_top=False,\n",
    "                                           # input_shape=(image_size,image_size, 3))"
   ],
   "outputs": [],
   "execution_count": 225
  },
  {
   "metadata": {
    "ExecuteTime": {
     "end_time": "2024-09-13T10:54:51.104971Z",
     "start_time": "2024-09-13T10:54:49.886501Z"
    }
   },
   "cell_type": "code",
   "source": [
    "# initialize base_model with Resnet50, excluding top fully connected layer (dense et al) and load pre-trained weights from ImageNet. I use the convolutional layers or base of ResNet50 for feature extraction for \"transfer leaning\"\n",
    "base_model = applications.ResNet50(weights='imagenet', include_top=False, input_shape=(image_size,image_size,3))"
   ],
   "id": "a2931d1a0c09d63b",
   "outputs": [],
   "execution_count": 226
  },
  {
   "cell_type": "code",
   "id": "4c7caee9ccd24dcd",
   "metadata": {
    "ExecuteTime": {
     "end_time": "2024-09-13T10:54:52.010265Z",
     "start_time": "2024-09-13T10:54:51.994036Z"
    }
   },
   "source": [
    "# PLAN A ensure pre-learned features are preserved by freezing the models ResNet50 base layers which wont be updated during training (the layers where it is pretrained as we do not want to overwrite these nor change in training!  \n",
    "base_model.trainable = False"
   ],
   "outputs": [],
   "execution_count": 227
  },
  {
   "metadata": {
    "ExecuteTime": {
     "end_time": "2024-09-13T10:54:53.853802Z",
     "start_time": "2024-09-13T10:54:53.849631Z"
    }
   },
   "cell_type": "code",
   "source": [
    "# PLAN B unfreeze top layers near output and keep lower layers frozen, as lower layers capture general features that shed loads of images have used to define them during pre-training.\n",
    "#for layer in base_model.layers[-10:]:\n",
    "    #    layer.trainable = True\n",
    "# this reulted in overfitting so leave as frozen"
   ],
   "id": "a4488b69078cd76d",
   "outputs": [],
   "execution_count": 228
  },
  {
   "cell_type": "markdown",
   "id": "9d2aee429f9a3da0",
   "metadata": {},
   "source": [
    "7.0 Infrastructure CNN part 2"
   ]
  },
  {
   "cell_type": "markdown",
   "id": "b829ea9d22fb1953",
   "metadata": {},
   "source": [
    "7.1 Add new custom layers on top of frozen base_model"
   ]
  },
  {
   "cell_type": "code",
   "id": "a31645c2fd81f1f6",
   "metadata": {
    "ExecuteTime": {
     "end_time": "2024-09-13T10:54:55.589832Z",
     "start_time": "2024-09-13T10:54:55.570961Z"
    }
   },
   "source": [
    "# extract pre-train <InceptionRNV2 output/ ResNet50>, which is the input to the following custom layers\n",
    "x = base_model.output"
   ],
   "outputs": [],
   "execution_count": 229
  },
  {
   "cell_type": "code",
   "id": "353aa3d90fcb9a83",
   "metadata": {
    "ExecuteTime": {
     "end_time": "2024-09-13T10:54:56.282718Z",
     "start_time": "2024-09-13T10:54:56.280059Z"
    }
   },
   "source": [
    "#converts the 2D matrix output of model to 1D vector. Why? it must be done before feeding the data into THE fully connected layer (Dense). This is more complexity but has a large number of parameters not great for a small data set were it is prone to overfitting.\n",
    "# x = Flatten()(x)"
   ],
   "outputs": [],
   "execution_count": 230
  },
  {
   "metadata": {
    "ExecuteTime": {
     "end_time": "2024-09-13T10:54:58.021183Z",
     "start_time": "2024-09-13T10:54:58.011383Z"
    }
   },
   "cell_type": "code",
   "source": [
    "# reduce 2d feature to 1D vector. Global is better for small datasets and can reduce overfitting e.g. compress feature maps into smaller vectors.\n",
    "x = GlobalAveragePooling2D()(x)"
   ],
   "id": "d7d6716fb2a4c782",
   "outputs": [],
   "execution_count": 231
  },
  {
   "cell_type": "code",
   "id": "db0ce7da44b613e7",
   "metadata": {
    "ExecuteTime": {
     "end_time": "2024-09-13T10:54:59.221187Z",
     "start_time": "2024-09-13T10:54:59.117370Z"
    }
   },
   "source": [
    "# adds a fully connected layer (densely connected layer). this layer is used to learn complex patterns from the flatten feature map and specifies the number of neurons (1024)\n",
    "x = Dense(1024, activation='relu')(x)"
   ],
   "outputs": [],
   "execution_count": 232
  },
  {
   "cell_type": "code",
   "id": "27fe415edd831c9d",
   "metadata": {
    "ExecuteTime": {
     "end_time": "2024-09-13T10:55:00.100917Z",
     "start_time": "2024-09-13T10:55:00.077064Z"
    }
   },
   "source": [
    "# this is a regularization technique to prevent overfitting by dropping a fraction of neurons during each training iteration.\n",
    "x = Dropout(0.5)(x)"
   ],
   "outputs": [],
   "execution_count": 233
  },
  {
   "cell_type": "markdown",
   "id": "add4926813901005",
   "metadata": {},
   "source": "7.2 Final output Layer"
  },
  {
   "cell_type": "code",
   "id": "f07d40d2ca3ed221",
   "metadata": {
    "ExecuteTime": {
     "end_time": "2024-09-13T10:55:02.206871Z",
     "start_time": "2024-09-13T10:55:02.178107Z"
    }
   },
   "source": [
    "# this defines a fully connected layer with 1 output neuron. The sigmoid function  squash value to between 0 and 1 typical for classification tasks, where output represents that a given input belongs to a class e.g dirt plate.\n",
    "output = Dense(1, activation='sigmoid')(x)\n",
    "\n",
    "# note in dense layer activation is always sigmoid if you are have two classes (binary class e.g. clean or dirty), for multi-class classification we use softmax in dense layer."
   ],
   "outputs": [],
   "execution_count": 234
  },
  {
   "cell_type": "markdown",
   "id": "e5fc9ae4acdbb9a5",
   "metadata": {},
   "source": [
    "7.3 Model definition"
   ]
  },
  {
   "cell_type": "code",
   "id": "598662b6f2e0cccd",
   "metadata": {
    "ExecuteTime": {
     "end_time": "2024-09-13T10:55:07.849739Z",
     "start_time": "2024-09-13T10:55:07.825514Z"
    }
   },
   "source": [
    "# this create a keras model object which takes the input of the pre-trained base model (e.g. InceptionResNetv2) and outputs the final prediction layer. the prediction is the output layer of the entire model, which predicts if image is clean or dirty plate\n",
    "model = Model(inputs=base_model.input, outputs=output)"
   ],
   "outputs": [],
   "execution_count": 235
  },
  {
   "cell_type": "markdown",
   "id": "dab508919010a5f0",
   "metadata": {},
   "source": [
    "8.0 Compile model"
   ]
  },
  {
   "cell_type": "code",
   "id": "7d23b735ed846a95",
   "metadata": {
    "ExecuteTime": {
     "end_time": "2024-09-13T10:55:12.028404Z",
     "start_time": "2024-09-13T10:55:11.985251Z"
    }
   },
   "source": [
    "# this is a classification problem ´binary crossentropy´ is used as loss function(difference between predicted probabilities and actual.\n",
    "# RMSprop is a optimizer for training neural networks\n",
    "# lr=0.0001 inital learning rate (hyper parameter)\n",
    "# metrics accuracy means model will track accuracy during training.\n",
    "model.compile(loss='binary_crossentropy', optimizer=RMSprop(learning_rate=0.0001, decay=1e-6), metrics=['accuracy'])"
   ],
   "outputs": [
    {
     "name": "stderr",
     "output_type": "stream",
     "text": [
      "/opt/anaconda3/lib/python3.11/site-packages/keras/src/optimizers/base_optimizer.py:33: UserWarning: Argument `decay` is no longer supported and will be ignored.\n",
      "  warnings.warn(\n"
     ]
    }
   ],
   "execution_count": 236
  },
  {
   "metadata": {},
   "cell_type": "markdown",
   "source": "9.0 Early stopping",
   "id": "b96693a242342d8d"
  },
  {
   "metadata": {
    "ExecuteTime": {
     "end_time": "2024-09-13T10:55:18.473646Z",
     "start_time": "2024-09-13T10:55:18.437228Z"
    }
   },
   "cell_type": "code",
   "source": [
    "# this helps to STOP training at the RIGHT time to avoid OVERFITTING\n",
    "# training will monitor validation loss (or val_accuracy) if selected.\n",
    "# if validation does not improve for 5 epochs it will stop\n",
    "# restore best weights after stopping the model will restore the best weights from best performing epochs\n",
    "# for accuracy (val_acc) we set mode to max e.g. the higher the accuracy the better. if we set monitor to loss(val_loss) then mode = min as we would want to minimise loss.\n",
    "# verbose 1 give  information if stop early and where\n",
    "\n",
    "# define callbacks\n",
    "early_stopping = EarlyStopping(monitor='val_loss', mode='min',patience=10, verbose=1, restore_best_weights=True)\n",
    "reduce_lr = ReduceLROnPlateau(monitor='val_loss', factor=0.5, patience=5, min_lr=1e-6)\n"
   ],
   "id": "4308c149aa2c385",
   "outputs": [],
   "execution_count": 237
  },
  {
   "metadata": {},
   "cell_type": "markdown",
   "source": "10.0 Training",
   "id": "7e85160a94a9ce20"
  },
  {
   "cell_type": "code",
   "id": "50c555685dc70ec6",
   "metadata": {
    "ExecuteTime": {
     "end_time": "2024-09-13T10:55:48.886367Z",
     "start_time": "2024-09-13T10:55:21.605102Z"
    }
   },
   "source": [
    "# train model with history object\n",
    "history = model.fit(\n",
    "        train_generator, \n",
    "        validation_data=validation_generator,\n",
    "        #ensures imageDataGenerator can generate enough batches for each epoch\n",
    "        steps_per_epoch=7,   #used formula and reduce better score \n",
    "        epochs=100,              # hyper-parameter\n",
    "        verbose=1,  \n",
    "        callbacks=[early_stopping, reduce_lr]# show progress bar\n",
    "        )"
   ],
   "outputs": [
    {
     "name": "stdout",
     "output_type": "stream",
     "text": [
      "Epoch 1/100\n"
     ]
    },
    {
     "name": "stderr",
     "output_type": "stream",
     "text": [
      "/opt/anaconda3/lib/python3.11/site-packages/keras/src/trainers/data_adapters/py_dataset_adapter.py:122: UserWarning: Your `PyDataset` class should call `super().__init__(**kwargs)` in its constructor. `**kwargs` can include `workers`, `use_multiprocessing`, `max_queue_size`. Do not pass these arguments to `fit()`, as they will be ignored.\n",
      "  self._warn_if_super_not_called()\n"
     ]
    },
    {
     "name": "stdout",
     "output_type": "stream",
     "text": [
      "\u001B[1m1/7\u001B[0m \u001B[32m━━\u001B[0m\u001B[37m━━━━━━━━━━━━━━━━━━\u001B[0m \u001B[1m17s\u001B[0m 3s/step - accuracy: 0.5417 - loss: 0.9098"
     ]
    },
    {
     "name": "stderr",
     "output_type": "stream",
     "text": [
      "/opt/anaconda3/lib/python3.11/contextlib.py:158: UserWarning: Your input ran out of data; interrupting training. Make sure that your dataset or generator can generate at least `steps_per_epoch * epochs` batches. You may need to use the `.repeat()` function when building your dataset.\n",
      "  self.gen.throw(typ, value, traceback)\n"
     ]
    },
    {
     "name": "stdout",
     "output_type": "stream",
     "text": [
      "\u001B[1m7/7\u001B[0m \u001B[32m━━━━━━━━━━━━━━━━━━━━\u001B[0m\u001B[37m\u001B[0m \u001B[1m4s\u001B[0m 202ms/step - accuracy: 0.5417 - loss: 0.9098 - val_accuracy: 0.5625 - val_loss: 0.6724 - learning_rate: 1.0000e-04\n",
      "Epoch 2/100\n",
      "\u001B[1m7/7\u001B[0m \u001B[32m━━━━━━━━━━━━━━━━━━━━\u001B[0m\u001B[37m\u001B[0m \u001B[1m1s\u001B[0m 81ms/step - accuracy: 0.5833 - loss: 0.8358 - val_accuracy: 0.6250 - val_loss: 0.8645 - learning_rate: 1.0000e-04\n",
      "Epoch 3/100\n",
      "\u001B[1m7/7\u001B[0m \u001B[32m━━━━━━━━━━━━━━━━━━━━\u001B[0m\u001B[37m\u001B[0m \u001B[1m1s\u001B[0m 77ms/step - accuracy: 0.5417 - loss: 0.6374 - val_accuracy: 0.5625 - val_loss: 0.8044 - learning_rate: 1.0000e-04\n",
      "Epoch 4/100\n",
      "\u001B[1m7/7\u001B[0m \u001B[32m━━━━━━━━━━━━━━━━━━━━\u001B[0m\u001B[37m\u001B[0m \u001B[1m1s\u001B[0m 81ms/step - accuracy: 0.7500 - loss: 0.6193 - val_accuracy: 0.6875 - val_loss: 0.5815 - learning_rate: 1.0000e-04\n",
      "Epoch 5/100\n",
      "\u001B[1m7/7\u001B[0m \u001B[32m━━━━━━━━━━━━━━━━━━━━\u001B[0m\u001B[37m\u001B[0m \u001B[1m1s\u001B[0m 76ms/step - accuracy: 0.6250 - loss: 0.7156 - val_accuracy: 0.6875 - val_loss: 0.7094 - learning_rate: 1.0000e-04\n",
      "Epoch 6/100\n",
      "\u001B[1m7/7\u001B[0m \u001B[32m━━━━━━━━━━━━━━━━━━━━\u001B[0m\u001B[37m\u001B[0m \u001B[1m1s\u001B[0m 74ms/step - accuracy: 0.6250 - loss: 0.6741 - val_accuracy: 0.5625 - val_loss: 0.6566 - learning_rate: 1.0000e-04\n",
      "Epoch 7/100\n",
      "\u001B[1m7/7\u001B[0m \u001B[32m━━━━━━━━━━━━━━━━━━━━\u001B[0m\u001B[37m\u001B[0m \u001B[1m1s\u001B[0m 77ms/step - accuracy: 0.8750 - loss: 0.3780 - val_accuracy: 0.6875 - val_loss: 0.6571 - learning_rate: 1.0000e-04\n",
      "Epoch 8/100\n",
      "\u001B[1m7/7\u001B[0m \u001B[32m━━━━━━━━━━━━━━━━━━━━\u001B[0m\u001B[37m\u001B[0m \u001B[1m1s\u001B[0m 74ms/step - accuracy: 0.9167 - loss: 0.3281 - val_accuracy: 0.6250 - val_loss: 0.6839 - learning_rate: 1.0000e-04\n",
      "Epoch 9/100\n",
      "\u001B[1m7/7\u001B[0m \u001B[32m━━━━━━━━━━━━━━━━━━━━\u001B[0m\u001B[37m\u001B[0m \u001B[1m1s\u001B[0m 74ms/step - accuracy: 0.7500 - loss: 0.3688 - val_accuracy: 0.6875 - val_loss: 0.6057 - learning_rate: 1.0000e-04\n",
      "Epoch 10/100\n",
      "\u001B[1m7/7\u001B[0m \u001B[32m━━━━━━━━━━━━━━━━━━━━\u001B[0m\u001B[37m\u001B[0m \u001B[1m1s\u001B[0m 77ms/step - accuracy: 0.7917 - loss: 0.3872 - val_accuracy: 0.5625 - val_loss: 0.6894 - learning_rate: 5.0000e-05\n",
      "Epoch 11/100\n",
      "\u001B[1m7/7\u001B[0m \u001B[32m━━━━━━━━━━━━━━━━━━━━\u001B[0m\u001B[37m\u001B[0m \u001B[1m1s\u001B[0m 81ms/step - accuracy: 0.7083 - loss: 0.4773 - val_accuracy: 0.6250 - val_loss: 0.5428 - learning_rate: 5.0000e-05\n",
      "Epoch 12/100\n",
      "\u001B[1m7/7\u001B[0m \u001B[32m━━━━━━━━━━━━━━━━━━━━\u001B[0m\u001B[37m\u001B[0m \u001B[1m1s\u001B[0m 75ms/step - accuracy: 0.9583 - loss: 0.2274 - val_accuracy: 0.6250 - val_loss: 0.5949 - learning_rate: 5.0000e-05\n",
      "Epoch 13/100\n",
      "\u001B[1m7/7\u001B[0m \u001B[32m━━━━━━━━━━━━━━━━━━━━\u001B[0m\u001B[37m\u001B[0m \u001B[1m1s\u001B[0m 83ms/step - accuracy: 1.0000 - loss: 0.2062 - val_accuracy: 0.6875 - val_loss: 0.6414 - learning_rate: 5.0000e-05\n",
      "Epoch 14/100\n",
      "\u001B[1m7/7\u001B[0m \u001B[32m━━━━━━━━━━━━━━━━━━━━\u001B[0m\u001B[37m\u001B[0m \u001B[1m1s\u001B[0m 77ms/step - accuracy: 0.9583 - loss: 0.2083 - val_accuracy: 0.6875 - val_loss: 0.6515 - learning_rate: 5.0000e-05\n",
      "Epoch 15/100\n",
      "\u001B[1m7/7\u001B[0m \u001B[32m━━━━━━━━━━━━━━━━━━━━\u001B[0m\u001B[37m\u001B[0m \u001B[1m1s\u001B[0m 75ms/step - accuracy: 0.7917 - loss: 0.3621 - val_accuracy: 0.6250 - val_loss: 0.6898 - learning_rate: 5.0000e-05\n",
      "Epoch 16/100\n",
      "\u001B[1m7/7\u001B[0m \u001B[32m━━━━━━━━━━━━━━━━━━━━\u001B[0m\u001B[37m\u001B[0m \u001B[1m1s\u001B[0m 78ms/step - accuracy: 0.8750 - loss: 0.2753 - val_accuracy: 0.7500 - val_loss: 0.7077 - learning_rate: 5.0000e-05\n",
      "Epoch 17/100\n",
      "\u001B[1m7/7\u001B[0m \u001B[32m━━━━━━━━━━━━━━━━━━━━\u001B[0m\u001B[37m\u001B[0m \u001B[1m1s\u001B[0m 75ms/step - accuracy: 0.9583 - loss: 0.2676 - val_accuracy: 0.6250 - val_loss: 0.7231 - learning_rate: 2.5000e-05\n",
      "Epoch 18/100\n",
      "\u001B[1m7/7\u001B[0m \u001B[32m━━━━━━━━━━━━━━━━━━━━\u001B[0m\u001B[37m\u001B[0m \u001B[1m1s\u001B[0m 74ms/step - accuracy: 0.9167 - loss: 0.2700 - val_accuracy: 0.5000 - val_loss: 0.7444 - learning_rate: 2.5000e-05\n",
      "Epoch 19/100\n",
      "\u001B[1m7/7\u001B[0m \u001B[32m━━━━━━━━━━━━━━━━━━━━\u001B[0m\u001B[37m\u001B[0m \u001B[1m1s\u001B[0m 80ms/step - accuracy: 0.9583 - loss: 0.2423 - val_accuracy: 0.6875 - val_loss: 0.6008 - learning_rate: 2.5000e-05\n",
      "Epoch 20/100\n",
      "\u001B[1m7/7\u001B[0m \u001B[32m━━━━━━━━━━━━━━━━━━━━\u001B[0m\u001B[37m\u001B[0m \u001B[1m1s\u001B[0m 78ms/step - accuracy: 0.9583 - loss: 0.1725 - val_accuracy: 0.6875 - val_loss: 0.6365 - learning_rate: 2.5000e-05\n",
      "Epoch 21/100\n",
      "\u001B[1m7/7\u001B[0m \u001B[32m━━━━━━━━━━━━━━━━━━━━\u001B[0m\u001B[37m\u001B[0m \u001B[1m1s\u001B[0m 76ms/step - accuracy: 0.9583 - loss: 0.2528 - val_accuracy: 0.7500 - val_loss: 0.5636 - learning_rate: 2.5000e-05\n",
      "Epoch 21: early stopping\n",
      "Restoring model weights from the end of the best epoch: 11.\n"
     ]
    }
   ],
   "execution_count": 238
  },
  {
   "metadata": {},
   "cell_type": "markdown",
   "source": "12 Continue training",
   "id": "8d0b47c015dd3535"
  },
  {
   "cell_type": "code",
   "id": "6d1b819ead25e617",
   "metadata": {
    "ExecuteTime": {
     "end_time": "2024-09-13T10:55:58.012195Z",
     "start_time": "2024-09-13T10:55:57.873131Z"
    }
   },
   "source": [
    "# access the accuracy and loss from history object\n",
    "acc = history.history['accuracy']\n",
    "val_acc = history.history['val_accuracy']\n",
    "loss = history.history['loss']\n",
    "val_loss = history.history['val_loss']\n",
    "\n",
    "#Generate the range of epochs\n",
    "epochs_range = range(1, len(acc)+1)\n",
    "\n",
    "# plot the accuracy\n",
    "plt.figure(figsize=(8,8))\n",
    "plt.subplot(1,2,1)\n",
    "plt.plot(epochs_range, acc, label='Training Accuracy')\n",
    "plt.plot(epochs_range, val_acc, label='Validation Accuracy')\n",
    "plt.xlabel(\"Epochs\")\n",
    "plt.ylabel(\"Accuracy\")\n",
    "plt.title(\"Training Accuracy over epoch\")\n",
    "plt.show()"
   ],
   "outputs": [
    {
     "data": {
      "text/plain": [
       "<Figure size 800x800 with 1 Axes>"
      ],
      "image/png": "[encoded data removed]"
     },
     "metadata": {},
     "output_type": "display_data"
    }
   ],
   "execution_count": 239
  },
  {
   "cell_type": "code",
   "id": "5b31dab7e6912fb7",
   "metadata": {
    "ExecuteTime": {
     "end_time": "2024-09-13T10:56:03.778909Z",
     "start_time": "2024-09-13T10:56:03.692272Z"
    }
   },
   "source": [
    "# plot the loss\n",
    "plt.figure(figsize=(8,8))\n",
    "plt.subplot(1,2,2)\n",
    "plt.plot(epochs_range, loss, label='Training Loss')\n",
    "plt.plot(epochs_range, val_loss, label='Validation Loss')\n",
    "plt.xlabel(\"Epochs\")\n",
    "plt.ylabel(\"Loss\")\n",
    "plt.title(\"Training Loss over epoch\")\n",
    "plt.show()"
   ],
   "outputs": [
    {
     "data": {
      "text/plain": [
       "<Figure size 800x800 with 1 Axes>"
      ],
      "image/png": "[encoded data removed]"
     },
     "metadata": {},
     "output_type": "display_data"
    }
   ],
   "execution_count": 240
  },
  {
   "cell_type": "markdown",
   "id": "c1413435248bd441",
   "metadata": {},
   "source": [
    "10 Prediction"
   ]
  },
  {
   "cell_type": "code",
   "id": "6e9d3376c4dd11ae",
   "metadata": {
    "ExecuteTime": {
     "end_time": "2024-09-13T10:56:47.833906Z",
     "start_time": "2024-09-13T10:56:19.020617Z"
    }
   },
   "source": [
    "test_generator.reset()\n",
    "predict = model.predict(test_generator, steps = len(test_generator.filenames))\n",
    "len(predict)"
   ],
   "outputs": [
    {
     "name": "stderr",
     "output_type": "stream",
     "text": [
      "/opt/anaconda3/lib/python3.11/site-packages/keras/src/trainers/data_adapters/py_dataset_adapter.py:122: UserWarning: Your `PyDataset` class should call `super().__init__(**kwargs)` in its constructor. `**kwargs` can include `workers`, `use_multiprocessing`, `max_queue_size`. Do not pass these arguments to `fit()`, as they will be ignored.\n",
      "  self._warn_if_super_not_called()\n"
     ]
    },
    {
     "name": "stdout",
     "output_type": "stream",
     "text": [
      "\u001B[1m744/744\u001B[0m \u001B[32m━━━━━━━━━━━━━━━━━━━━\u001B[0m\u001B[37m\u001B[0m \u001B[1m29s\u001B[0m 38ms/step\n"
     ]
    },
    {
     "data": {
      "text/plain": [
       "744"
      ]
     },
     "execution_count": 241,
     "metadata": {},
     "output_type": "execute_result"
    }
   ],
   "execution_count": 241
  },
  {
   "cell_type": "code",
   "id": "943a4f7f66a9a747",
   "metadata": {
    "ExecuteTime": {
     "end_time": "2024-09-13T10:56:50.497632Z",
     "start_time": "2024-09-13T10:56:50.485076Z"
    }
   },
   "source": [
    "predict[:5]"
   ],
   "outputs": [
    {
     "data": {
      "text/plain": [
       "array([[0.86930454],\n",
       "       [0.8700045 ],\n",
       "       [0.97311276],\n",
       "       [0.69131833],\n",
       "       [0.86828864]], dtype=float32)"
      ]
     },
     "execution_count": 242,
     "metadata": {},
     "output_type": "execute_result"
    }
   ],
   "execution_count": 242
  },
  {
   "cell_type": "code",
   "id": "f16b72f15246d27",
   "metadata": {
    "ExecuteTime": {
     "end_time": "2024-09-13T10:56:52.613015Z",
     "start_time": "2024-09-13T10:56:52.568336Z"
    }
   },
   "source": [
    "sub_df = pd.read_csv('/Users/godfreykrutzsch/Desktop/platesv2/sample_submission.csv')\n",
    "sub_df.head()"
   ],
   "outputs": [
    {
     "data": {
      "text/plain": [
       "   id  label\n",
       "0   0  dirty\n",
       "1   1  dirty\n",
       "2   2  dirty\n",
       "3   3  dirty\n",
       "4   4  dirty"
      ],
      "text/html": [
       "<div>\n",
       "<style scoped>\n",
       "    .dataframe tbody tr th:only-of-type {\n",
       "        vertical-align: middle;\n",
       "    }\n",
       "\n",
       "    .dataframe tbody tr th {\n",
       "        vertical-align: top;\n",
       "    }\n",
       "\n",
       "    .dataframe thead th {\n",
       "        text-align: right;\n",
       "    }\n",
       "</style>\n",
       "<table border=\"1\" class=\"dataframe\">\n",
       "  <thead>\n",
       "    <tr style=\"text-align: right;\">\n",
       "      <th></th>\n",
       "      <th>id</th>\n",
       "      <th>label</th>\n",
       "    </tr>\n",
       "  </thead>\n",
       "  <tbody>\n",
       "    <tr>\n",
       "      <th>0</th>\n",
       "      <td>0</td>\n",
       "      <td>dirty</td>\n",
       "    </tr>\n",
       "    <tr>\n",
       "      <th>1</th>\n",
       "      <td>1</td>\n",
       "      <td>dirty</td>\n",
       "    </tr>\n",
       "    <tr>\n",
       "      <th>2</th>\n",
       "      <td>2</td>\n",
       "      <td>dirty</td>\n",
       "    </tr>\n",
       "    <tr>\n",
       "      <th>3</th>\n",
       "      <td>3</td>\n",
       "      <td>dirty</td>\n",
       "    </tr>\n",
       "    <tr>\n",
       "      <th>4</th>\n",
       "      <td>4</td>\n",
       "      <td>dirty</td>\n",
       "    </tr>\n",
       "  </tbody>\n",
       "</table>\n",
       "</div>"
      ]
     },
     "execution_count": 243,
     "metadata": {},
     "output_type": "execute_result"
    }
   ],
   "execution_count": 243
  },
  {
   "cell_type": "code",
   "id": "676abfa5c1792ccd",
   "metadata": {
    "ExecuteTime": {
     "end_time": "2024-09-13T10:56:54.085876Z",
     "start_time": "2024-09-13T10:56:54.081151Z"
    }
   },
   "source": [
    "sub_df.label.value_counts()"
   ],
   "outputs": [
    {
     "data": {
      "text/plain": [
       "label\n",
       "dirty    744\n",
       "Name: count, dtype: int64"
      ]
     },
     "execution_count": 244,
     "metadata": {},
     "output_type": "execute_result"
    }
   ],
   "execution_count": 244
  },
  {
   "cell_type": "code",
   "id": "88e49cb06bdebca4",
   "metadata": {
    "ExecuteTime": {
     "end_time": "2024-09-13T10:56:56.875836Z",
     "start_time": "2024-09-13T10:56:56.870270Z"
    }
   },
   "source": [
    "sub_df['label'] = predict\n",
    "sub_df['label'] = sub_df['label'].apply(lambda x : 'dirty' if x > 0.5 else 'cleaned')\n",
    "sub_df.head()"
   ],
   "outputs": [
    {
     "data": {
      "text/plain": [
       "   id  label\n",
       "0   0  dirty\n",
       "1   1  dirty\n",
       "2   2  dirty\n",
       "3   3  dirty\n",
       "4   4  dirty"
      ],
      "text/html": [
       "<div>\n",
       "<style scoped>\n",
       "    .dataframe tbody tr th:only-of-type {\n",
       "        vertical-align: middle;\n",
       "    }\n",
       "\n",
       "    .dataframe tbody tr th {\n",
       "        vertical-align: top;\n",
       "    }\n",
       "\n",
       "    .dataframe thead th {\n",
       "        text-align: right;\n",
       "    }\n",
       "</style>\n",
       "<table border=\"1\" class=\"dataframe\">\n",
       "  <thead>\n",
       "    <tr style=\"text-align: right;\">\n",
       "      <th></th>\n",
       "      <th>id</th>\n",
       "      <th>label</th>\n",
       "    </tr>\n",
       "  </thead>\n",
       "  <tbody>\n",
       "    <tr>\n",
       "      <th>0</th>\n",
       "      <td>0</td>\n",
       "      <td>dirty</td>\n",
       "    </tr>\n",
       "    <tr>\n",
       "      <th>1</th>\n",
       "      <td>1</td>\n",
       "      <td>dirty</td>\n",
       "    </tr>\n",
       "    <tr>\n",
       "      <th>2</th>\n",
       "      <td>2</td>\n",
       "      <td>dirty</td>\n",
       "    </tr>\n",
       "    <tr>\n",
       "      <th>3</th>\n",
       "      <td>3</td>\n",
       "      <td>dirty</td>\n",
       "    </tr>\n",
       "    <tr>\n",
       "      <th>4</th>\n",
       "      <td>4</td>\n",
       "      <td>dirty</td>\n",
       "    </tr>\n",
       "  </tbody>\n",
       "</table>\n",
       "</div>"
      ]
     },
     "execution_count": 245,
     "metadata": {},
     "output_type": "execute_result"
    }
   ],
   "execution_count": 245
  },
  {
   "cell_type": "code",
   "id": "9ca2c9a32ef93fe6",
   "metadata": {
    "ExecuteTime": {
     "end_time": "2024-09-13T10:57:00.701824Z",
     "start_time": "2024-09-13T10:57:00.673797Z"
    }
   },
   "source": [
    "sub_df.label.value_counts()"
   ],
   "outputs": [
    {
     "data": {
      "text/plain": [
       "label\n",
       "dirty      687\n",
       "cleaned     57\n",
       "Name: count, dtype: int64"
      ]
     },
     "execution_count": 246,
     "metadata": {},
     "output_type": "execute_result"
    }
   ],
   "execution_count": 246
  },
  {
   "cell_type": "code",
   "id": "a691c116eb0cb678",
   "metadata": {
    "ExecuteTime": {
     "end_time": "2024-09-13T10:57:15.379855Z",
     "start_time": "2024-09-13T10:57:15.353717Z"
    }
   },
   "source": "sub_df.to_csv('/Users/godfreykrutzsch/Desktop/platesv2/bigfreeze.csv', index=False)",
   "outputs": [],
   "execution_count": 247
  },
  {
   "metadata": {},
   "cell_type": "code",
   "outputs": [],
   "execution_count": null,
   "source": "",
   "id": "2f58eca09ae608b"
  }
 ],
 "metadata": {
  "kernelspec": {
   "display_name": "Python 3 (ipykernel)",
   "language": "python",
   "name": "python3"
  },
  "language_info": {
   "codemirror_mode": {
    "name": "ipython",
    "version": 3
   },
   "file_extension": ".py",
   "mimetype": "text/x-python",
   "name": "python",
   "nbconvert_exporter": "python",
   "pygments_lexer": "ipython3",
   "version": "3.11.7"
  }
 },
 "nbformat": 4,
 "nbformat_minor": 5
}
